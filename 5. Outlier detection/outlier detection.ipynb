{
  "nbformat": 4,
  "nbformat_minor": 0,
  "metadata": {
    "kernelspec": {
      "display_name": "Python 3",
      "language": "python",
      "name": "python3"
    },
    "language_info": {
      "codemirror_mode": {
        "name": "ipython",
        "version": 2
      },
      "file_extension": ".py",
      "mimetype": "text/x-python",
      "name": "python",
      "nbconvert_exporter": "python",
      "pygments_lexer": "ipython2",
      "version": "2.7.6"
    },
    "colab": {
      "name": "outlier detection.ipynb",
      "provenance": []
    }
  },
  "cells": [
    {
      "cell_type": "markdown",
      "metadata": {
        "collapsed": false,
        "id": "Di21DZx_QA0y"
      },
      "source": [
        "## 5.Outlier detection"
      ]
    },
    {
      "cell_type": "code",
      "metadata": {
        "pycharm": {
          "name": "#%%\n"
        },
        "id": "ssWww2s_QA00"
      },
      "source": [
        "import numpy as np\n",
        "import pandas as pd\n",
        "import matplotlib.pyplot as plt\n",
        "from sklearn.datasets import load_iris"
      ],
      "execution_count": 1,
      "outputs": []
    },
    {
      "cell_type": "markdown",
      "metadata": {
        "collapsed": false,
        "id": "SsRS6S8cQA00"
      },
      "source": [
        "#### (1) boxplot-based outlier detection\n",
        "###### - using iris dataset"
      ]
    },
    {
      "cell_type": "code",
      "metadata": {
        "pycharm": {
          "name": "#%%\n"
        },
        "colab": {
          "base_uri": "https://localhost:8080/",
          "height": 268
        },
        "id": "MHBUTle7QA01",
        "outputId": "eb7f1b1c-98ef-4905-df48-9665ee64f4ab"
      },
      "source": [
        "iris = load_iris()\n",
        "ex = iris.data[:,1]\n",
        "boxplot =  plt.boxplot(ex)"
      ],
      "execution_count": 2,
      "outputs": [
        {
          "output_type": "display_data",
          "data": {
            "image/png": "[encoded data removed]",
            "text/plain": [
              "<Figure size 432x288 with 1 Axes>"
            ]
          },
          "metadata": {
            "needs_background": "light"
          }
        }
      ]
    },
    {
      "cell_type": "markdown",
      "metadata": {
        "collapsed": false,
        "id": "L3sie3myQA02"
      },
      "source": [
        "###### - function to denoise a variable"
      ]
    },
    {
      "cell_type": "code",
      "metadata": {
        "pycharm": {
          "name": "#%%\n"
        },
        "id": "8G2TONHoQA02"
      },
      "source": [
        "def boxplot_whiskers(x):\n",
        "    boxplot = plt.boxplot(x)\n",
        "    boxplot_whiskers = [item.get_ydata() for item in boxplot['whiskers']]\n",
        "    return(boxplot_whiskers)"
      ],
      "execution_count": 3,
      "outputs": []
    },
    {
      "cell_type": "code",
      "metadata": {
        "pycharm": {
          "name": "#%%\n"
        },
        "id": "WOcUiNcjQA02"
      },
      "source": [
        "def my_denoising(x):\n",
        "    y = boxplot_whiskers(x)\n",
        "    z = x[(x>=np.min(y))&(x<=np.max(y))]\n",
        "    return(z)"
      ],
      "execution_count": 4,
      "outputs": []
    },
    {
      "cell_type": "code",
      "metadata": {
        "pycharm": {
          "name": "#%%\n"
        },
        "id": "_pwauPR1QA03"
      },
      "source": [
        "def my_outlier_detect(x):\n",
        "    y = boxplot_whiskers(x)\n",
        "    out_idx = np.where((x<np.min(y))|(x>np.max(y)))[0]\n",
        "    out_values = x[out_idx]\n",
        "    boxplot = plt.boxplot(x[-out_idx])\n",
        "    return(pd.DataFrame({'outlier_index': out_idx,'outliers': out_values}))"
      ],
      "execution_count": 5,
      "outputs": []
    },
    {
      "cell_type": "code",
      "metadata": {
        "pycharm": {
          "name": "#%%\n"
        },
        "colab": {
          "base_uri": "https://localhost:8080/",
          "height": 359
        },
        "id": "n8lq4rBXQA03",
        "outputId": "98800abf-4420-47b3-a890-fc05fb954267"
      },
      "source": [
        "print(my_outlier_detect(ex))"
      ],
      "execution_count": 6,
      "outputs": [
        {
          "output_type": "stream",
          "name": "stdout",
          "text": [
            "   outlier_index  outliers\n",
            "0             15       4.4\n",
            "1             32       4.1\n",
            "2             33       4.2\n",
            "3             60       2.0\n"
          ]
        },
        {
          "output_type": "display_data",
          "data": {
            "image/png": "[encoded data removed]",
            "text/plain": [
              "<Figure size 432x288 with 1 Axes>"
            ]
          },
          "metadata": {
            "needs_background": "light"
          }
        }
      ]
    },
    {
      "cell_type": "code",
      "metadata": {
        "pycharm": {
          "name": "#%%\n"
        },
        "colab": {
          "base_uri": "https://localhost:8080/",
          "height": 432
        },
        "id": "gF7eYY5cQA04",
        "outputId": "1c57b3be-9b46-45a9-b20a-85abfc627159"
      },
      "source": [
        "print(my_denoising(ex))"
      ],
      "execution_count": 7,
      "outputs": [
        {
          "output_type": "stream",
          "name": "stdout",
          "text": [
            "[3.5 3.  3.2 3.1 3.6 3.9 3.4 3.4 2.9 3.1 3.7 3.4 3.  3.  4.  3.9 3.5 3.8\n",
            " 3.8 3.4 3.7 3.6 3.3 3.4 3.  3.4 3.5 3.4 3.2 3.1 3.4 3.1 3.2 3.5 3.6 3.\n",
            " 3.4 3.5 2.3 3.2 3.5 3.8 3.  3.8 3.2 3.7 3.3 3.2 3.2 3.1 2.3 2.8 2.8 3.3\n",
            " 2.4 2.9 2.7 3.  2.2 2.9 2.9 3.1 3.  2.7 2.2 2.5 3.2 2.8 2.5 2.8 2.9 3.\n",
            " 2.8 3.  2.9 2.6 2.4 2.4 2.7 2.7 3.  3.4 3.1 2.3 3.  2.5 2.6 3.  2.6 2.3\n",
            " 2.7 3.  2.9 2.9 2.5 2.8 3.3 2.7 3.  2.9 3.  3.  2.5 2.9 2.5 3.6 3.2 2.7\n",
            " 3.  2.5 2.8 3.2 3.  3.8 2.6 2.2 3.2 2.8 2.8 2.7 3.3 3.2 2.8 3.  2.8 3.\n",
            " 2.8 3.8 2.8 2.8 2.6 3.  3.4 3.1 3.  3.1 3.1 3.1 2.7 3.2 3.3 3.  2.5 3.\n",
            " 3.4 3. ]\n"
          ]
        },
        {
          "output_type": "display_data",
          "data": {
            "image/png": "[encoded data removed]",
            "text/plain": [
              "<Figure size 432x288 with 1 Axes>"
            ]
          },
          "metadata": {
            "needs_background": "light"
          }
        }
      ]
    },
    {
      "cell_type": "markdown",
      "metadata": {
        "collapsed": false,
        "id": "_SoiB-x5QA05"
      },
      "source": [
        "#### (2) mahalanobis distance based outlier detection"
      ]
    },
    {
      "cell_type": "code",
      "metadata": {
        "pycharm": {
          "name": "#%%\n"
        },
        "id": "bElhMu8GQA05"
      },
      "source": [
        "from scipy.special import chdtri\n",
        "from sklearn.decomposition import PCA"
      ],
      "execution_count": 8,
      "outputs": []
    },
    {
      "cell_type": "markdown",
      "metadata": {
        "collapsed": false,
        "id": "KDTGhhD2QA05"
      },
      "source": [
        "###### - import mahalanobis function"
      ]
    },
    {
      "cell_type": "code",
      "metadata": {
        "pycharm": {
          "name": "#%%\n"
        },
        "id": "celjDkmzQA05"
      },
      "source": [
        "def mahalanobis(x):\n",
        "    iv = np.linalg.inv(np.cov(np.transpose(x)))\n",
        "    u = x\n",
        "    v = np.tile(np.mean(x,axis=0),(len(x),1))\n",
        "    return(np.diag(np.dot(np.dot((u-v),iv),np.transpose(u-v))))"
      ],
      "execution_count": 9,
      "outputs": []
    },
    {
      "cell_type": "code",
      "metadata": {
        "pycharm": {
          "name": "#%%\n"
        },
        "id": "s8RhWtsWQA06"
      },
      "source": [
        "mh_dist = mahalanobis(iris.data)\n",
        "mh_out = np.where(mh_dist>chdtri(4,0.025))[0]"
      ],
      "execution_count": 10,
      "outputs": []
    },
    {
      "cell_type": "markdown",
      "metadata": {
        "collapsed": false,
        "id": "SH5p72yvQA06"
      },
      "source": [
        "###### - PCA"
      ]
    },
    {
      "cell_type": "code",
      "metadata": {
        "pycharm": {
          "name": "#%%\n"
        },
        "id": "WZXPvtVOQA06"
      },
      "source": [
        "pca = PCA(n_components=2)\n",
        "iris_pca=pca.fit_transform(iris.data)"
      ],
      "execution_count": 11,
      "outputs": []
    },
    {
      "cell_type": "code",
      "metadata": {
        "pycharm": {
          "name": "#%%\n"
        },
        "colab": {
          "base_uri": "https://localhost:8080/",
          "height": 287
        },
        "id": "-CvTuKjHQA06",
        "outputId": "4c89e19a-62cc-4794-8ab7-e7f5fee44d30"
      },
      "source": [
        "plt.scatter(x=iris_pca[:,0],y=iris_pca[:,1])\n",
        "plt.scatter(x=iris_pca[mh_out,0],y=iris_pca[mh_out,1],marker='o',color='red')"
      ],
      "execution_count": 12,
      "outputs": [
        {
          "output_type": "execute_result",
          "data": {
            "text/plain": [
              "<matplotlib.collections.PathCollection at 0x7f5ea4244f90>"
            ]
          },
          "metadata": {},
          "execution_count": 12
        },
        {
          "output_type": "display_data",
          "data": {
            "image/png": "[encoded data removed]",
            "text/plain": [
              "<Figure size 432x288 with 1 Axes>"
            ]
          },
          "metadata": {
            "needs_background": "light"
          }
        }
      ]
    },
    {
      "cell_type": "markdown",
      "metadata": {
        "collapsed": false,
        "id": "ulpyiaXXQA07"
      },
      "source": [
        "#### (3) KNN based outlier detection\n",
        "###### - KNN"
      ]
    },
    {
      "cell_type": "code",
      "metadata": {
        "pycharm": {
          "name": "#%%\n"
        },
        "colab": {
          "base_uri": "https://localhost:8080/",
          "height": 555
        },
        "id": "8jawl0S3QA07",
        "outputId": "c88b96d5-a2a9-4d92-ccdf-9b61d9bff16d"
      },
      "source": [
        "dt = pd.read_csv('data01.csv')\n",
        "from sklearn.neighbors import KDTree\n",
        "k = 3\n",
        "tree = KDTree(dt)\n",
        "result_knn = tree.query(dt,k)\n",
        "outlier_scores = result_knn[0][:,k-1]\n",
        "plt.hist(outlier_scores,bins=50)"
      ],
      "execution_count": 13,
      "outputs": [
        {
          "output_type": "execute_result",
          "data": {
            "text/plain": [
              "(array([16., 51., 71., 47., 40., 49., 39., 20., 27.,  8., 19., 13.,  9.,\n",
              "        12.,  3.,  9.,  7.,  5.,  7.,  6.,  1.,  8.,  4.,  6.,  3.,  3.,\n",
              "         2.,  0.,  1.,  3.,  1.,  1.,  0.,  1.,  0.,  1.,  2.,  1.,  2.,\n",
              "         0.,  0.,  1.,  0.,  0.,  0.,  0.,  0.,  0.,  0.,  1.]),\n",
              " array([0.02064036, 0.04570969, 0.07077903, 0.09584836, 0.12091769,\n",
              "        0.14598702, 0.17105635, 0.19612568, 0.22119501, 0.24626434,\n",
              "        0.27133367, 0.29640301, 0.32147234, 0.34654167, 0.371611  ,\n",
              "        0.39668033, 0.42174966, 0.44681899, 0.47188832, 0.49695765,\n",
              "        0.52202699, 0.54709632, 0.57216565, 0.59723498, 0.62230431,\n",
              "        0.64737364, 0.67244297, 0.6975123 , 0.72258163, 0.74765097,\n",
              "        0.7727203 , 0.79778963, 0.82285896, 0.84792829, 0.87299762,\n",
              "        0.89806695, 0.92313628, 0.94820561, 0.97327495, 0.99834428,\n",
              "        1.02341361, 1.04848294, 1.07355227, 1.0986216 , 1.12369093,\n",
              "        1.14876026, 1.17382959, 1.19889893, 1.22396826, 1.24903759,\n",
              "        1.27410692]),\n",
              " <a list of 50 Patch objects>)"
            ]
          },
          "metadata": {},
          "execution_count": 13
        },
        {
          "output_type": "display_data",
          "data": {
            "image/png": "[encoded data removed]",
            "text/plain": [
              "<Figure size 432x288 with 1 Axes>"
            ]
          },
          "metadata": {
            "needs_background": "light"
          }
        }
      ]
    },
    {
      "cell_type": "code",
      "metadata": {
        "pycharm": {
          "name": "#%%\n"
        },
        "colab": {
          "base_uri": "https://localhost:8080/",
          "height": 283
        },
        "id": "9MO2m8UCQA07",
        "outputId": "7395557a-87a7-459c-c5ee-4b62b8724662"
      },
      "source": [
        "out_idx = np.where(outlier_scores>=0.8)[0]\n",
        "plt.scatter(dt.drop(out_idx).iloc[:,0],dt.drop(out_idx).iloc[:,1])\n",
        "plt.scatter(dt.iloc[out_idx,0],dt.iloc[out_idx,1],color='red',marker='x')"
      ],
      "execution_count": 14,
      "outputs": [
        {
          "output_type": "execute_result",
          "data": {
            "text/plain": [
              "<matplotlib.collections.PathCollection at 0x7f5ea3860f50>"
            ]
          },
          "metadata": {},
          "execution_count": 14
        },
        {
          "output_type": "display_data",
          "data": {
            "image/png": "[encoded data removed]",
            "text/plain": [
              "<Figure size 432x288 with 1 Axes>"
            ]
          },
          "metadata": {
            "needs_background": "light"
          }
        }
      ]
    },
    {
      "cell_type": "markdown",
      "metadata": {
        "collapsed": false,
        "id": "jAsP7M-YQA07"
      },
      "source": [
        "###### - aggregated KNN"
      ]
    },
    {
      "cell_type": "code",
      "metadata": {
        "pycharm": {
          "name": "#%%\n"
        },
        "colab": {
          "base_uri": "https://localhost:8080/",
          "height": 555
        },
        "id": "fuZjWHX9QA08",
        "outputId": "8d953b39-0bd1-45a4-b691-56eb2fe02c4e"
      },
      "source": [
        "tree = KDTree(dt)\n",
        "result_knn = tree.query(dt,k)\n",
        "outlier_scores = np.sum(result_knn[0],axis=1)\n",
        "plt.hist(outlier_scores,bins=50)"
      ],
      "execution_count": 15,
      "outputs": [
        {
          "output_type": "execute_result",
          "data": {
            "text/plain": [
              "(array([19., 59., 68., 52., 46., 45., 26., 26., 23., 14.,  8., 21.,  6.,\n",
              "        10.,  9.,  9.,  8.,  1.,  8.,  8.,  2.,  3.,  3.,  4.,  4.,  1.,\n",
              "         2.,  2.,  2.,  2.,  1.,  0.,  1.,  1.,  0.,  0.,  1.,  2.,  0.,\n",
              "         0.,  0.,  1.,  1.,  0.,  0.,  0.,  0.,  0.,  0.,  1.]),\n",
              " array([0.03400639, 0.07791879, 0.12183119, 0.16574358, 0.20965598,\n",
              "        0.25356838, 0.29748078, 0.34139318, 0.38530558, 0.42921798,\n",
              "        0.47313037, 0.51704277, 0.56095517, 0.60486757, 0.64877997,\n",
              "        0.69269237, 0.73660477, 0.78051716, 0.82442956, 0.86834196,\n",
              "        0.91225436, 0.95616676, 1.00007916, 1.04399155, 1.08790395,\n",
              "        1.13181635, 1.17572875, 1.21964115, 1.26355355, 1.30746595,\n",
              "        1.35137834, 1.39529074, 1.43920314, 1.48311554, 1.52702794,\n",
              "        1.57094034, 1.61485273, 1.65876513, 1.70267753, 1.74658993,\n",
              "        1.79050233, 1.83441473, 1.87832713, 1.92223952, 1.96615192,\n",
              "        2.01006432, 2.05397672, 2.09788912, 2.14180152, 2.18571392,\n",
              "        2.22962631]),\n",
              " <a list of 50 Patch objects>)"
            ]
          },
          "metadata": {},
          "execution_count": 15
        },
        {
          "output_type": "display_data",
          "data": {
            "image/png": "[encoded data removed]",
            "text/plain": [
              "<Figure size 432x288 with 1 Axes>"
            ]
          },
          "metadata": {
            "needs_background": "light"
          }
        }
      ]
    },
    {
      "cell_type": "code",
      "metadata": {
        "pycharm": {
          "name": "#%%\n"
        },
        "colab": {
          "base_uri": "https://localhost:8080/",
          "height": 283
        },
        "id": "UTGtHXwnQA08",
        "outputId": "0149c867-d25a-4666-a36f-9a1bfe59a600"
      },
      "source": [
        "out_idx = np.where(outlier_scores>=1)[0]\n",
        "plt.scatter(dt.drop(out_idx).iloc[:,0],dt.drop(out_idx).iloc[:,1])\n",
        "plt.scatter(dt.iloc[out_idx,0],dt.iloc[out_idx,1],color='red',marker='x')"
      ],
      "execution_count": 16,
      "outputs": [
        {
          "output_type": "execute_result",
          "data": {
            "text/plain": [
              "<matplotlib.collections.PathCollection at 0x7f5ea3d28b10>"
            ]
          },
          "metadata": {},
          "execution_count": 16
        },
        {
          "output_type": "display_data",
          "data": {
            "image/png": "[encoded data removed]",
            "text/plain": [
              "<Figure size 432x288 with 1 Axes>"
            ]
          },
          "metadata": {
            "needs_background": "light"
          }
        }
      ]
    },
    {
      "cell_type": "markdown",
      "metadata": {
        "collapsed": false,
        "id": "VNtfTjnnQA08"
      },
      "source": [
        "#### (4) Local outlier factor"
      ]
    },
    {
      "cell_type": "code",
      "metadata": {
        "pycharm": {
          "name": "#%%\n"
        },
        "id": "Mn7bGNOcQA08"
      },
      "source": [
        "from sklearn.neighbors import LocalOutlierFactor"
      ],
      "execution_count": 17,
      "outputs": []
    },
    {
      "cell_type": "code",
      "metadata": {
        "pycharm": {
          "name": "#%%\n"
        },
        "id": "kcpZz6i_QA08"
      },
      "source": [
        "clf = LocalOutlierFactor(n_neighbors=4)\n",
        "clf.fit(iris.data)\n",
        "outlier_scores = -clf.negative_outlier_factor_"
      ],
      "execution_count": 18,
      "outputs": []
    },
    {
      "cell_type": "code",
      "metadata": {
        "pycharm": {
          "name": "#%%\n"
        },
        "colab": {
          "base_uri": "https://localhost:8080/",
          "height": 555
        },
        "id": "rLcTO0nPQA09",
        "outputId": "f564fb6b-9c0f-4b80-8c0a-467a0e629be9"
      },
      "source": [
        "plt.hist(outlier_scores,bins=50)"
      ],
      "execution_count": 19,
      "outputs": [
        {
          "output_type": "execute_result",
          "data": {
            "text/plain": [
              "(array([ 1.,  0.,  2., 10., 12., 30., 17., 16.,  6.,  8.,  6.,  6.,  3.,\n",
              "         7.,  3.,  4.,  5.,  0.,  0.,  1.,  2.,  4.,  1.,  0.,  1.,  0.,\n",
              "         1.,  0.,  0.,  0.,  0.,  0.,  1.,  0.,  0.,  0.,  1.,  0.,  0.,\n",
              "         0.,  1.,  0.,  0.,  0.,  0.,  0.,  0.,  0.,  0.,  1.]),\n",
              " array([0.83065469, 0.8621713 , 0.89368791, 0.92520453, 0.95672114,\n",
              "        0.98823776, 1.01975437, 1.05127098, 1.0827876 , 1.11430421,\n",
              "        1.14582082, 1.17733744, 1.20885405, 1.24037067, 1.27188728,\n",
              "        1.30340389, 1.33492051, 1.36643712, 1.39795373, 1.42947035,\n",
              "        1.46098696, 1.49250358, 1.52402019, 1.5555368 , 1.58705342,\n",
              "        1.61857003, 1.65008665, 1.68160326, 1.71311987, 1.74463649,\n",
              "        1.7761531 , 1.80766971, 1.83918633, 1.87070294, 1.90221956,\n",
              "        1.93373617, 1.96525278, 1.9967694 , 2.02828601, 2.05980263,\n",
              "        2.09131924, 2.12283585, 2.15435247, 2.18586908, 2.21738569,\n",
              "        2.24890231, 2.28041892, 2.31193554, 2.34345215, 2.37496876,\n",
              "        2.40648538]),\n",
              " <a list of 50 Patch objects>)"
            ]
          },
          "metadata": {},
          "execution_count": 19
        },
        {
          "output_type": "display_data",
          "data": {
            "image/png": "[encoded data removed]",
            "text/plain": [
              "<Figure size 432x288 with 1 Axes>"
            ]
          },
          "metadata": {
            "needs_background": "light"
          }
        }
      ]
    },
    {
      "cell_type": "code",
      "metadata": {
        "pycharm": {
          "name": "#%%\n"
        },
        "id": "MbXkpS-IQA09"
      },
      "source": [
        "out_idx = np.where(outlier_scores>=1.5)[0]"
      ],
      "execution_count": 20,
      "outputs": []
    },
    {
      "cell_type": "code",
      "metadata": {
        "pycharm": {
          "name": "#%%\n"
        },
        "id": "lRNuUL8NQA09"
      },
      "source": [
        "pca = PCA(n_components=2)\n",
        "iris_pca=pca.fit_transform(iris.data)"
      ],
      "execution_count": 21,
      "outputs": []
    },
    {
      "cell_type": "code",
      "metadata": {
        "pycharm": {
          "name": "#%%\n"
        },
        "colab": {
          "base_uri": "https://localhost:8080/",
          "height": 287
        },
        "id": "ImzzljicQA09",
        "outputId": "68062a5b-0604-40cb-d5c5-f3e714523948"
      },
      "source": [
        "plt.scatter(x=iris_pca[:,0],y=iris_pca[:,1])\n",
        "plt.scatter(x=iris_pca[out_idx,0],y=iris_pca[out_idx,1],marker='o',color='red')"
      ],
      "execution_count": 22,
      "outputs": [
        {
          "output_type": "execute_result",
          "data": {
            "text/plain": [
              "<matplotlib.collections.PathCollection at 0x7f5ea35564d0>"
            ]
          },
          "metadata": {},
          "execution_count": 22
        },
        {
          "output_type": "display_data",
          "data": {
            "image/png": "[encoded data removed]",
            "text/plain": [
              "<Figure size 432x288 with 1 Axes>"
            ]
          },
          "metadata": {
            "needs_background": "light"
          }
        }
      ]
    }
  ]
}