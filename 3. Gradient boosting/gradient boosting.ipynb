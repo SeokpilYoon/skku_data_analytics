{
  "nbformat": 4,
  "nbformat_minor": 0,
  "metadata": {
    "kernelspec": {
      "display_name": "Python 3",
      "language": "python",
      "name": "python3"
    },
    "language_info": {
      "codemirror_mode": {
        "name": "ipython",
        "version": 2
      },
      "file_extension": ".py",
      "mimetype": "text/x-python",
      "name": "python",
      "nbconvert_exporter": "python",
      "pygments_lexer": "ipython2",
      "version": "2.7.6"
    },
    "colab": {
      "name": "gradient boosting.ipynb",
      "provenance": []
    }
  },
  "cells": [
    {
      "cell_type": "markdown",
      "metadata": {
        "collapsed": false,
        "id": "Fdq5L63wPr2g"
      },
      "source": [
        "## 3.Gradient boosting"
      ]
    },
    {
      "cell_type": "markdown",
      "metadata": {
        "collapsed": false,
        "id": "r0-BpuDcPr2k"
      },
      "source": [
        "#### (1) Importing packages"
      ]
    },
    {
      "cell_type": "code",
      "metadata": {
        "collapsed": true,
        "id": "jbJTgdwqPr2k"
      },
      "source": [
        "import numpy as np\n",
        "import pandas as pd\n",
        "import matplotlib.pyplot as plt\n",
        "from sklearn.model_selection import train_test_split\n",
        "from sklearn.metrics import confusion_matrix\n",
        "from sklearn.ensemble import GradientBoostingClassifier"
      ],
      "execution_count": 1,
      "outputs": []
    },
    {
      "cell_type": "markdown",
      "metadata": {
        "collapsed": false,
        "id": "CVP93hOHPr2m"
      },
      "source": [
        "#### (2) Load dataset for implementation\n",
        "###### - load PimaIndianDiabetes dataset and split"
      ]
    },
    {
      "cell_type": "code",
      "metadata": {
        "pycharm": {
          "name": "#%%\n"
        },
        "id": "bgTaeMPKPr2n"
      },
      "source": [
        "Ploan = pd.read_csv(\"Personal Loan.csv\")\n",
        "\n",
        "x_vars = np.array(['Age','Experience','Income','Family','CCAvg','Education','Mortgage','Securities Account','CD Account','Online','CreditCard'])\n",
        "\n",
        "Ploan_X = Ploan[x_vars]\n",
        "Ploan_Y = Ploan['Personal Loan']\n",
        "\n",
        "n_train = 1500\n",
        "\n",
        "GBM_tr_X, GBM_ts_X, GBM_tr_Y, GBM_ts_Y = train_test_split(Ploan_X, Ploan_Y, train_size=n_train)"
      ],
      "execution_count": 2,
      "outputs": []
    },
    {
      "cell_type": "markdown",
      "metadata": {
        "collapsed": false,
        "pycharm": {
          "name": "#%% md\n"
        },
        "id": "Cb_vGbDqPr2o"
      },
      "source": [
        "#### (3) Learning Gradient boosting classifier"
      ]
    },
    {
      "cell_type": "code",
      "metadata": {
        "pycharm": {
          "name": "#%%\n"
        },
        "colab": {
          "base_uri": "https://localhost:8080/"
        },
        "id": "POnE41o9Pr2o",
        "outputId": "f0b16706-f3d6-4ed5-e56f-0b2cd3980d05"
      },
      "source": [
        "GBM_model = GradientBoostingClassifier( learning_rate=0.02, n_estimators=1000, subsample=0.8)\n",
        "GBM_model.fit(GBM_tr_X, GBM_tr_Y)\n"
      ],
      "execution_count": 3,
      "outputs": [
        {
          "output_type": "execute_result",
          "data": {
            "text/plain": [
              "GradientBoostingClassifier(ccp_alpha=0.0, criterion='friedman_mse', init=None,\n",
              "                           learning_rate=0.02, loss='deviance', max_depth=3,\n",
              "                           max_features=None, max_leaf_nodes=None,\n",
              "                           min_impurity_decrease=0.0, min_impurity_split=None,\n",
              "                           min_samples_leaf=1, min_samples_split=2,\n",
              "                           min_weight_fraction_leaf=0.0, n_estimators=1000,\n",
              "                           n_iter_no_change=None, presort='deprecated',\n",
              "                           random_state=None, subsample=0.8, tol=0.0001,\n",
              "                           validation_fraction=0.1, verbose=0,\n",
              "                           warm_start=False)"
            ]
          },
          "metadata": {},
          "execution_count": 3
        }
      ]
    },
    {
      "cell_type": "markdown",
      "metadata": {
        "collapsed": false,
        "id": "ET0fl-u1Pr2q"
      },
      "source": [
        "#### (4) Experimental result"
      ]
    },
    {
      "cell_type": "code",
      "metadata": {
        "pycharm": {
          "name": "#%%\n"
        },
        "colab": {
          "base_uri": "https://localhost:8080/"
        },
        "id": "nlRcoKEBPr2r",
        "outputId": "4b7225b7-4d5d-4675-bc80-ebd554477b16"
      },
      "source": [
        "pred_tr = GBM_model.predict(GBM_tr_X)\n",
        "x_tr = confusion_matrix(GBM_tr_Y, pred_tr)\n",
        "print(\"Train ACC = \", np.diag(x_tr).sum()/np.sum(x_tr))\n",
        "\n",
        "pred_ts = GBM_model.predict(GBM_ts_X)\n",
        "x_ts = confusion_matrix(GBM_ts_Y, pred_ts)\n",
        "print(\"Test ACC = \", np.diag(x_ts).sum()/np.sum(x_ts))"
      ],
      "execution_count": 4,
      "outputs": [
        {
          "output_type": "stream",
          "name": "stdout",
          "text": [
            "Train ACC =  1.0\n",
            "Test ACC =  0.981\n"
          ]
        }
      ]
    },
    {
      "cell_type": "markdown",
      "metadata": {
        "collapsed": false,
        "id": "MS5pUE15Pr2s"
      },
      "source": [
        "#### (5) Plotting variable importance"
      ]
    },
    {
      "cell_type": "code",
      "metadata": {
        "pycharm": {
          "name": "#%%\n"
        },
        "colab": {
          "base_uri": "https://localhost:8080/",
          "height": 283
        },
        "id": "_88kGLXMPr2s",
        "outputId": "6fbff06c-40e1-48ef-efb4-7e5af8ba826a"
      },
      "source": [
        "feature_importance = GBM_model.feature_importances_\n",
        "\n",
        "plt.barh(['Age','Experience','Income','Family','CCAvg','Education','Mortgage','Securities Account','CD Account','Online','CreditCard'], feature_importance)"
      ],
      "execution_count": 5,
      "outputs": [
        {
          "output_type": "execute_result",
          "data": {
            "text/plain": [
              "<BarContainer object of 11 artists>"
            ]
          },
          "metadata": {},
          "execution_count": 5
        },
        {
          "output_type": "display_data",
          "data": {
            "image/png": "[encoded data removed]",
            "text/plain": [
              "<Figure size 432x288 with 1 Axes>"
            ]
          },
          "metadata": {
            "needs_background": "light"
          }
        }
      ]
    }
  ]
}